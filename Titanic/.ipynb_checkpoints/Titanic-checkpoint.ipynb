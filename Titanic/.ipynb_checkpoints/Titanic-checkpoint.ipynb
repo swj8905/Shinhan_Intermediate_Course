{
 "cells": [
  {
   "cell_type": "code",
   "execution_count": 4,
   "metadata": {
    "_cell_guid": "79c7e3d0-c299-4dcb-8224-4455121ee9b0",
    "_uuid": "d629ff2d2480ee46fbb7e2d37f6b5fab8052498a"
   },
   "outputs": [
    {
     "ename": "ModuleNotFoundError",
     "evalue": "No module named 'pandas'",
     "output_type": "error",
     "traceback": [
      "\u001b[0;31m---------------------------------------------------------------------------\u001b[0m",
      "\u001b[0;31mModuleNotFoundError\u001b[0m                       Traceback (most recent call last)",
      "\u001b[0;32m<ipython-input-4-b3fc0ef0e846>\u001b[0m in \u001b[0;36m<module>\u001b[0;34m\u001b[0m\n\u001b[0;32m----> 1\u001b[0;31m \u001b[0;32mimport\u001b[0m \u001b[0mpandas\u001b[0m \u001b[0;32mas\u001b[0m \u001b[0mpd\u001b[0m\u001b[0;34m\u001b[0m\u001b[0;34m\u001b[0m\u001b[0m\n\u001b[0m\u001b[1;32m      2\u001b[0m \u001b[0;34m\u001b[0m\u001b[0m\n\u001b[1;32m      3\u001b[0m \u001b[0mtrain\u001b[0m \u001b[0;34m=\u001b[0m \u001b[0mpd\u001b[0m\u001b[0;34m.\u001b[0m\u001b[0mread_csv\u001b[0m\u001b[0;34m(\u001b[0m\u001b[0;34m'./train_data.csv'\u001b[0m\u001b[0;34m)\u001b[0m\u001b[0;34m\u001b[0m\u001b[0;34m\u001b[0m\u001b[0m\n\u001b[1;32m      4\u001b[0m \u001b[0mtest\u001b[0m \u001b[0;34m=\u001b[0m \u001b[0mpd\u001b[0m\u001b[0;34m.\u001b[0m\u001b[0mread_csv\u001b[0m\u001b[0;34m(\u001b[0m\u001b[0;34m'./test_data.csv'\u001b[0m\u001b[0;34m)\u001b[0m\u001b[0;34m\u001b[0m\u001b[0;34m\u001b[0m\u001b[0m\n",
      "\u001b[0;31mModuleNotFoundError\u001b[0m: No module named 'pandas'"
     ]
    }
   ],
   "source": [
    "import pandas as pd\n",
    "\n",
    "train = pd.read_csv('./train_data.csv')\n",
    "test = pd.read_csv('./test_data.csv')"
   ]
  },
  {
   "cell_type": "code",
   "execution_count": null,
   "metadata": {
    "_uuid": "7bc97b797a54a417ccec3a7b71ed2824bc73949f"
   },
   "outputs": [],
   "source": [
    "train.head()"
   ]
  },
  {
   "cell_type": "code",
   "execution_count": null,
   "metadata": {
    "_uuid": "2a5cd07cc672752f1b8a8e6c36e2aac4be267792"
   },
   "outputs": [],
   "source": [
    "test.head()"
   ]
  },
  {
   "cell_type": "code",
   "execution_count": null,
   "metadata": {
    "_uuid": "b17afa3cf11ff613b4275e60613ba4a962dec3a6"
   },
   "outputs": [],
   "source": [
    "train.shape   # 891개의 데이터, 12종류의 변수들"
   ]
  },
  {
   "cell_type": "code",
   "execution_count": null,
   "metadata": {
    "_uuid": "7b9e60f96107d38800223976d7284be6552aaf59"
   },
   "outputs": [],
   "source": [
    "test.shape  # 418개의 데이터, 11종류의 변수들(생존유무가 빠져있다. 이 test set 에 들어있는 사람들의 생존유무를 예측하는게 최종 목표)"
   ]
  },
  {
   "cell_type": "code",
   "execution_count": null,
   "metadata": {
    "_uuid": "cd5eb82685f8e4b026991472d0c6948881627559",
    "scrolled": true
   },
   "outputs": [],
   "source": [
    "train.info()   # 자세히 보면 값이 없는 것들이 조금 있다."
   ]
  },
  {
   "cell_type": "code",
   "execution_count": null,
   "metadata": {
    "_uuid": "414cccfcdc64be3a32fab0f46fb818518aeea5fc"
   },
   "outputs": [],
   "source": [
    "test.info()   "
   ]
  },
  {
   "cell_type": "code",
   "execution_count": null,
   "metadata": {
    "_uuid": "912f0b0830f5e074c0db0880e84f6da1c4597986"
   },
   "outputs": [],
   "source": [
    "import matplotlib.pyplot as plt\n",
    "import seaborn as sns"
   ]
  },
  {
   "cell_type": "code",
   "execution_count": null,
   "metadata": {
    "_uuid": "3025f8e46e39dd22d5357bd0da9f67a357c73f3d"
   },
   "outputs": [],
   "source": [
    "def bar_chart (feature):\n",
    "    survived = train.loc[train['Survived']==1, feature].value_counts()\n",
    "    dead = train.loc[train['Survived']==0, feature].value_counts()\n",
    "    df = pd.DataFrame([survived,dead], index=['Survived', 'Dead'])\n",
    "    df.plot(kind='bar', figsize=(15,10))\n",
    "    plt.show()"
   ]
  },
  {
   "cell_type": "code",
   "execution_count": null,
   "metadata": {
    "_uuid": "dabc7a94ba9392517333250215d18759cb443e36"
   },
   "outputs": [],
   "source": [
    "# 자리 등급에 따른 생존/사망자 확인\n",
    "bar_chart(\"Pclass\")"
   ]
  },
  {
   "cell_type": "code",
   "execution_count": null,
   "metadata": {},
   "outputs": [],
   "source": [
    "from IPython.display import Image\n",
    "Image(url= \"https://static1.squarespace.com/static/5006453fe4b09ef2252ba068/5095eabce4b06cb305058603/5095eabce4b02d37bef4c24c/1352002236895/100_anniversary_titanic_sinking_by_esai8mellows-d4xbme8.jpg\")"
   ]
  },
  {
   "cell_type": "code",
   "execution_count": null,
   "metadata": {},
   "outputs": [],
   "source": [
    "Image(url= \"https://static1.squarespace.com/static/5006453fe4b09ef2252ba068/t/5090b249e4b047ba54dfd258/1351660113175/TItanic-Survival-Infographic.jpg?format=1500w\")\n"
   ]
  },
  {
   "cell_type": "code",
   "execution_count": null,
   "metadata": {
    "_uuid": "82ed26132b28eb68cfeb177f70104f31f8083c46",
    "scrolled": true
   },
   "outputs": [],
   "source": [
    "# 요금에 따른 생존/사망자 확인\n",
    "facet = sns.FacetGrid(train, hue=\"Survived\",aspect=4)\n",
    "facet.map(sns.kdeplot,'Fare',shade= True)\n",
    "facet.set(xlim=(0, train['Fare'].max()))\n",
    "facet.add_legend()\n",
    "plt.xlim(0,180)\n",
    "plt.show()"
   ]
  },
  {
   "cell_type": "code",
   "execution_count": null,
   "metadata": {
    "_uuid": "fad6878824b8d57d4336162210411c17551c8ea5",
    "scrolled": false
   },
   "outputs": [],
   "source": [
    "# 성별에 따른 생존/사망자 확인\n",
    "bar_chart('Sex')"
   ]
  },
  {
   "cell_type": "code",
   "execution_count": null,
   "metadata": {
    "_uuid": "aec2f4546e1ac50f5ec79c26fb7b0271ee9883ae"
   },
   "outputs": [],
   "source": [
    "# 나이에 따른 생존/사망자 확인\n",
    "facet = sns.FacetGrid(train, hue=\"Survived\",aspect=4)\n",
    "facet.map(sns.kdeplot,'Age',shade= True)\n",
    "facet.set(xlim=(0, train['Age'].max()))\n",
    "facet.add_legend()\n",
    " \n",
    "plt.show()"
   ]
  },
  {
   "cell_type": "code",
   "execution_count": null,
   "metadata": {
    "_uuid": "193eae8442e54fbc36f4e532b5aaf97ab58d6c2f"
   },
   "outputs": [],
   "source": [
    "# 이름 데이터 가공\n",
    "\n",
    "# Mr    : 0\n",
    "# Miss  : 1\n",
    "# Mrs   : 2\n",
    "# 그 외 : 3\n",
    "\n",
    "train_test_data= [train, test] \n",
    "for dataset in train_test_data:\n",
    "    dataset['Title'] = dataset['Name'].str.extract(' ([A-Za-z]+)\\.', expand=False)\n",
    "\n",
    "title_mapping = {\"Mr\": \"Mr\", \"Miss\": \"Miss\", \"Mrs\": \"Mrs\", \n",
    "                 \"Master\": \"etc\", \"Dr\": \"etc\", \"Rev\": \"etc\", \"Col\": \"etc\", \"Major\": \"etc\", \"Mlle\": \"etc\",\"Countess\": \"etc\",\n",
    "                 \"Ms\": \"etc\", \"Lady\": \"etc\", \"Jonkheer\": \"etc\", \"Don\": \"etc\", \"Dona\" : \"etc\", \"Mme\": \"etc\",\"Capt\": \"etc\",\"Sir\": \"etc\" }\n",
    "for dataset in train_test_data:\n",
    "    dataset['Title'] = dataset['Title'].map(title_mapping)\n",
    "    \n",
    "# 이름 열은 날려버리기\n",
    "train.drop('Name', axis=1, inplace=True)\n",
    "test.drop('Name', axis=1, inplace=True)"
   ]
  },
  {
   "cell_type": "code",
   "execution_count": null,
   "metadata": {
    "_uuid": "3cc005153b201b7fb761096d5658f3d689ecc79a"
   },
   "outputs": [],
   "source": [
    "# 이름(타이틀)에 따른 생존/사망자 확인\n",
    "bar_chart('Title')"
   ]
  },
  {
   "cell_type": "code",
   "execution_count": null,
   "metadata": {
    "_uuid": "e5dc8ec0b919b7a5cf818bb2e62bc74cae749de2"
   },
   "outputs": [],
   "source": [
    "# 동행한 가족의 수에 따른 생존/사망자 확인\n",
    "train[\"FamilySize\"] = train[\"SibSp\"] + train[\"Parch\"]\n",
    "test[\"FamilySize\"] = test[\"SibSp\"] + test[\"Parch\"]\n",
    "train.drop('SibSp', axis=1, inplace=True)\n",
    "test.drop('SibSp', axis=1, inplace=True)\n",
    "train.drop('Parch', axis=1, inplace=True)\n",
    "test.drop('Parch', axis=1, inplace=True)\n",
    "\n",
    "bar_chart('FamilySize')"
   ]
  },
  {
   "cell_type": "code",
   "execution_count": null,
   "metadata": {
    "_uuid": "0e2c7cb6e9b9bc25915a893340278964a79d63bf",
    "scrolled": true
   },
   "outputs": [],
   "source": [
    "# 선착장에 따른 생존/사망자 확인\n",
    "bar_chart('Embarked')"
   ]
  },
  {
   "cell_type": "code",
   "execution_count": null,
   "metadata": {},
   "outputs": [],
   "source": [
    "# 관련이 없는 Feature들은 삭제 (티켓 번호, 사물함 번호, 승객 ID)\n",
    "train.drop('Ticket', axis=1, inplace=True)\n",
    "test.drop('Ticket', axis=1, inplace=True)\n",
    "\n",
    "train.drop('Cabin', axis=1, inplace=True)\n",
    "test.drop('Cabin', axis=1, inplace=True)\n",
    "\n",
    "test_PassengerId=test[\"PassengerId\"]\n",
    "train.drop('PassengerId', axis = 1, inplace=True)\n",
    "test.drop('PassengerId', axis = 1, inplace=True)"
   ]
  },
  {
   "cell_type": "code",
   "execution_count": null,
   "metadata": {
    "_uuid": "9f18501ce3efa2c50b61c8b0736427b0d27b93fd"
   },
   "outputs": [],
   "source": [
    "# \"Age\" 결측치 처리\n",
    "# 그룹별로 평균내서, 결측치 채우기\n",
    "\n",
    "train[\"Age\"].fillna(train.groupby(\"Title\")[\"Age\"].transform(\"median\"), inplace=True)\n",
    "test[\"Age\"].fillna(test.groupby(\"Title\")[\"Age\"].transform(\"median\"), inplace=True)"
   ]
  },
  {
   "cell_type": "code",
   "execution_count": null,
   "metadata": {
    "_uuid": "8bedb2c49bd4610ec6ef9afb945284f0afdcb362"
   },
   "outputs": [],
   "source": [
    "# \"Fare\" 결측치 처리\n",
    "# 그룹별로 평균내서, 결측치 채우기\n",
    "\n",
    "train[\"Fare\"].fillna(train.groupby(\"Pclass\")[\"Fare\"].transform(\"median\"), inplace=True)\n",
    "test[\"Fare\"].fillna(test.groupby(\"Pclass\")[\"Fare\"].transform(\"median\"), inplace=True)"
   ]
  },
  {
   "cell_type": "code",
   "execution_count": null,
   "metadata": {
    "_uuid": "29484e815e0d557462661f920fa6f01793b25789"
   },
   "outputs": [],
   "source": [
    "# \"Embarked\" 결측치 처리\n",
    "\n",
    "Pclass1 = train[train['Pclass']==1]['Embarked'].value_counts()\n",
    "Pclass2 = train[train['Pclass']==2]['Embarked'].value_counts()\n",
    "Pclass3 = train[train['Pclass']==3]['Embarked'].value_counts()\n",
    "df = pd.DataFrame([Pclass1, Pclass2, Pclass3])\n",
    "df.index = ['1st class','2nd class', '3rd class']\n",
    "df.plot(kind='bar',stacked=True, figsize=(10,5))\n"
   ]
  },
  {
   "cell_type": "code",
   "execution_count": null,
   "metadata": {
    "_uuid": "56584276d2fe7edb365308455836dccb73048ebf"
   },
   "outputs": [],
   "source": [
    "# \"Embarked\" 결측치 처리\n",
    "\n",
    "# S선착장이 모두 50%이상이므로 NaN을 모두 S로 채움\n",
    "for dataset in train_test_data:\n",
    "    dataset['Embarked'] = dataset['Embarked'].fillna('S')"
   ]
  },
  {
   "cell_type": "code",
   "execution_count": null,
   "metadata": {
    "_uuid": "aec2f4546e1ac50f5ec79c26fb7b0271ee9883ae"
   },
   "outputs": [],
   "source": [
    "# \"Age\" 구간화 (binning)\n",
    "facet = sns.FacetGrid(train, hue=\"Survived\",aspect=4)\n",
    "facet.map(sns.kdeplot,'Age',shade= True)\n",
    "facet.set(xlim=(0, train['Age'].max()))\n",
    "facet.add_legend()\n",
    " \n",
    "plt.show()"
   ]
  },
  {
   "cell_type": "code",
   "execution_count": null,
   "metadata": {},
   "outputs": [],
   "source": [
    "test.info()"
   ]
  },
  {
   "cell_type": "code",
   "execution_count": null,
   "metadata": {
    "_uuid": "ba604b37f4eb3d4fb415cf5234afc2348f0987a3"
   },
   "outputs": [],
   "source": [
    "# \"Age\" 구간화 (binning)\n",
    "#청소년: 0\n",
    "#청년  : 1\n",
    "#장년  : 2\n",
    "#중년  : 3\n",
    "#노년  : 4\n",
    "for dataset in train_test_data:\n",
    "    dataset.loc[ dataset['Age'] <= 16, 'Age'] = 0\n",
    "    dataset.loc[(dataset['Age'] > 16) & (dataset['Age'] <= 26), 'Age'] = 1\n",
    "    dataset.loc[(dataset['Age'] > 26) & (dataset['Age'] <= 36), 'Age'] = 2\n",
    "    dataset.loc[(dataset['Age'] > 36) & (dataset['Age'] <= 62), 'Age'] = 3\n",
    "    dataset.loc[ dataset['Age'] > 62, 'Age'] = 4"
   ]
  },
  {
   "cell_type": "code",
   "execution_count": null,
   "metadata": {
    "_uuid": "82ed26132b28eb68cfeb177f70104f31f8083c46",
    "scrolled": true
   },
   "outputs": [],
   "source": [
    "# \"Fare\" 구간화 (binning)\n",
    "facet = sns.FacetGrid(train, hue=\"Survived\",aspect=4)\n",
    "facet.map(sns.kdeplot,'Fare',shade= True)\n",
    "facet.set(xlim=(0, train['Fare'].max()))\n",
    "facet.add_legend()\n",
    "plt.xlim(0,180)\n",
    "plt.show()"
   ]
  },
  {
   "cell_type": "code",
   "execution_count": null,
   "metadata": {
    "_uuid": "e75022db68192ea84227ecd3e845476f65548238"
   },
   "outputs": [],
   "source": [
    "# \"Fare\" 구간화 (binning)\n",
    "# very low cost : 0\n",
    "# low cost      : 1\n",
    "# normal cost   : 2\n",
    "# high cost     : 3\n",
    "# very high cost: 4\n",
    "for dataset in train_test_data:\n",
    "    dataset.loc[ dataset['Fare'] <= 17, 'Fare'] = 0\n",
    "    dataset.loc[(dataset['Fare'] > 17) & (dataset['Fare'] <= 30), 'Fare'] = 1\n",
    "    dataset.loc[(dataset['Fare'] > 30) & (dataset['Fare'] <= 100), 'Fare'] = 2\n",
    "    dataset.loc[ dataset['Fare'] > 100, 'Fare'] = 3"
   ]
  },
  {
   "cell_type": "code",
   "execution_count": null,
   "metadata": {
    "_uuid": "bf10385f011f06ecddbb5fab4e364cd4a67280f6"
   },
   "outputs": [],
   "source": [
    "# 성별을 숫자로 맵핑\n",
    "sex_mapping = {\"male\": 0, \"female\": 1}\n",
    "for dataset in train_test_data:\n",
    "    dataset['Sex'] = dataset['Sex'].map(sex_mapping)"
   ]
  },
  {
   "cell_type": "code",
   "execution_count": null,
   "metadata": {
    "_uuid": "c2b293fcab9a5ea37f65abcb04c11a321b0f03f4"
   },
   "outputs": [],
   "source": [
    "# 선착장을 숫자로 맵핑\n",
    "embarked_mapping = {\"S\": 0, \"C\": 1, \"Q\": 2}\n",
    "for dataset in train_test_data:\n",
    "    dataset['Embarked'] = dataset['Embarked'].map(embarked_mapping)"
   ]
  },
  {
   "cell_type": "code",
   "execution_count": null,
   "metadata": {},
   "outputs": [],
   "source": [
    "# 이름을 숫자로 맵핑\n",
    "title_mapping = {\"Mr\": 0, \"Miss\": 1, \"Mrs\": 2, \"etc\": 3}\n",
    "for dataset in train_test_data:\n",
    "    dataset['Title'] = dataset['Title'].map(title_mapping)"
   ]
  },
  {
   "cell_type": "code",
   "execution_count": null,
   "metadata": {
    "_uuid": "678f3969f765491281555a93dd57563ab2392ad3"
   },
   "outputs": [],
   "source": [
    "train.head()"
   ]
  },
  {
   "cell_type": "code",
   "execution_count": null,
   "metadata": {},
   "outputs": [],
   "source": [
    "test.head()"
   ]
  },
  {
   "cell_type": "code",
   "execution_count": null,
   "metadata": {
    "_uuid": "e57abc4bedff2f65af0a158224af6a93d71627ef"
   },
   "outputs": [],
   "source": [
    "train_data = train.drop('Survived', axis=1)\n",
    "train_label = train['Survived']"
   ]
  },
  {
   "cell_type": "code",
   "execution_count": null,
   "metadata": {
    "_uuid": "a916a42fb654c324fa9ed90ebc8c5c3952106d3b"
   },
   "outputs": [],
   "source": [
    "# 검증 시작! 어떤 알고리즘이 가장 성능이 좋은지 테스트 해보자.\n",
    "\n",
    "from sklearn.neighbors import KNeighborsClassifier\n",
    "from sklearn.tree import DecisionTreeClassifier\n",
    "from sklearn.ensemble import RandomForestClassifier\n",
    "from sklearn import svm\n",
    "import numpy as np\n",
    "\n",
    "from sklearn.model_selection import KFold\n",
    "from sklearn.model_selection import cross_val_score\n",
    "\n",
    "# K_fold cross validation 준비, 10 개 구역을 나눔.\n",
    "k_fold = KFold(n_splits=10, shuffle=True, random_state=0)"
   ]
  },
  {
   "cell_type": "code",
   "execution_count": null,
   "metadata": {
    "_uuid": "9ff1a44f2662738b1ecff0333ab7ab4fa67c94eb"
   },
   "outputs": [],
   "source": [
    "# KNN\n",
    "clf = KNeighborsClassifier(n_neighbors = 5)\n",
    "score_KNN = cross_val_score(clf, train_data, train_label, cv=k_fold, n_jobs=1, scoring='accuracy')\n",
    "\n",
    "# 의사결정 나무\n",
    "clf = DecisionTreeClassifier()\n",
    "score_DT = cross_val_score(clf, train_data, train_label, cv=k_fold, n_jobs=1, scoring='accuracy')\n",
    "\n",
    "# 랜덤 포레스트\n",
    "clf = RandomForestClassifier(n_estimators=10)\n",
    "score_RF = cross_val_score(clf, train_data, train_label, cv=k_fold, n_jobs=1, scoring='accuracy')\n",
    "\n",
    "# SVM\n",
    "clf = svm.SVC(gamma='auto')\n",
    "score_SVC = cross_val_score(clf, train_data, train_label, cv=k_fold, n_jobs=1, scoring='accuracy')"
   ]
  },
  {
   "cell_type": "code",
   "execution_count": null,
   "metadata": {
    "_uuid": "5b6234582d95d2906856d931cb74a7b4ac568b06"
   },
   "outputs": [],
   "source": [
    "# 정확도 확인\n",
    "print(\"KNN           :\", round(np.mean(score_KNN)*100, 2))\n",
    "print(\"의사결정 나무 :\", round(np.mean(score_DT)*100, 2))\n",
    "print(\"랜덤 포레스트 :\", round(np.mean(score_RF)*100, 2))\n",
    "print(\"SVM           :\", round(np.mean(score_SVC)*100, 2))"
   ]
  },
  {
   "cell_type": "code",
   "execution_count": null,
   "metadata": {
    "_uuid": "83237034e5e64625d438c71e47df4e017de43dbd"
   },
   "outputs": [],
   "source": [
    "# 이제 진짜 test set에 있는 승객들의 생존자 예측!\n",
    "clf = svm.SVC(gamma='auto')\n",
    "clf.fit(train_data, train_label)\n",
    "\n",
    "prediction = clf.predict(test)"
   ]
  },
  {
   "cell_type": "code",
   "execution_count": null,
   "metadata": {
    "_uuid": "f9460a95615c4ef3de53664618268ea46c0bcfa7"
   },
   "outputs": [],
   "source": [
    "submission = pd.DataFrame({\n",
    "        \"PassengerId\": test_PassengerId,\n",
    "        \"Survived\": prediction\n",
    "    })\n",
    "\n",
    "submission.to_csv('submission.csv', index=False)"
   ]
  },
  {
   "cell_type": "code",
   "execution_count": null,
   "metadata": {
    "_uuid": "8f0f12eb144381c61857b5dbf8cec9a251751ac8"
   },
   "outputs": [],
   "source": [
    "submission = pd.read_csv('submission.csv')\n",
    "submission.head()"
   ]
  },
  {
   "cell_type": "code",
   "execution_count": null,
   "metadata": {},
   "outputs": [],
   "source": []
  }
 ],
 "metadata": {
  "kernelspec": {
   "display_name": "Python 3",
   "language": "python",
   "name": "python3"
  },
  "language_info": {
   "codemirror_mode": {
    "name": "ipython",
    "version": 3
   },
   "file_extension": ".py",
   "mimetype": "text/x-python",
   "name": "python",
   "nbconvert_exporter": "python",
   "pygments_lexer": "ipython3",
   "version": "3.9.2"
  }
 },
 "nbformat": 4,
 "nbformat_minor": 1
}
